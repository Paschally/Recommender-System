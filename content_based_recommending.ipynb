{
 "cells": [
  {
   "cell_type": "markdown",
   "id": "100d6b1c",
   "metadata": {},
   "source": [
    "#### Import necessary libraries "
   ]
  },
  {
   "cell_type": "code",
   "execution_count": 1,
   "id": "08d4014c",
   "metadata": {},
   "outputs": [],
   "source": [
    "import pandas as pd \n",
    "import numpy as np \n",
    "\n",
    "# Entity featurization and similarity computation\n",
    "from sklearn.metrics.pairwise import cosine_similarity \n",
    "from sklearn.feature_extraction.text import TfidfVectorizer\n",
    "\n",
    "# Libraries used during sorting procedures.\n",
    "import operator # <-- Convenient item retrieval during iteration \n",
    "import heapq # <-- Efficient sorting of large lists\n",
    "\n",
    "import warnings\n",
    "warnings.filterwarnings(\"ignore\")"
   ]
  },
  {
   "cell_type": "markdown",
   "id": "45f959eb",
   "metadata": {},
   "source": [
    "#### Load the dataset"
   ]
  },
  {
   "cell_type": "code",
   "execution_count": 2,
   "id": "eaa4638e",
   "metadata": {},
   "outputs": [
    {
     "data": {
      "text/html": [
       "<div>\n",
       "<style scoped>\n",
       "    .dataframe tbody tr th:only-of-type {\n",
       "        vertical-align: middle;\n",
       "    }\n",
       "\n",
       "    .dataframe tbody tr th {\n",
       "        vertical-align: top;\n",
       "    }\n",
       "\n",
       "    .dataframe thead th {\n",
       "        text-align: right;\n",
       "    }\n",
       "</style>\n",
       "<table border=\"1\" class=\"dataframe\">\n",
       "  <thead>\n",
       "    <tr style=\"text-align: right;\">\n",
       "      <th></th>\n",
       "      <th>budget</th>\n",
       "      <th>genres</th>\n",
       "      <th>homepage</th>\n",
       "      <th>id</th>\n",
       "      <th>keywords</th>\n",
       "      <th>original_language</th>\n",
       "      <th>original_title</th>\n",
       "      <th>overview</th>\n",
       "      <th>popularity</th>\n",
       "      <th>production_companies</th>\n",
       "      <th>production_countries</th>\n",
       "      <th>release_date</th>\n",
       "      <th>revenue</th>\n",
       "      <th>runtime</th>\n",
       "      <th>spoken_languages</th>\n",
       "      <th>status</th>\n",
       "      <th>tagline</th>\n",
       "      <th>title</th>\n",
       "      <th>vote_average</th>\n",
       "      <th>vote_count</th>\n",
       "    </tr>\n",
       "  </thead>\n",
       "  <tbody>\n",
       "    <tr>\n",
       "      <th>2938</th>\n",
       "      <td>24000000</td>\n",
       "      <td>[{\"id\": 35, \"name\": \"Comedy\"}]</td>\n",
       "      <td>NaN</td>\n",
       "      <td>16888</td>\n",
       "      <td>[{\"id\": 293, \"name\": \"female nudity\"}, {\"id\": ...</td>\n",
       "      <td>en</td>\n",
       "      <td>The Ladies Man</td>\n",
       "      <td>Because of his salacious language, late-night ...</td>\n",
       "      <td>2.259537</td>\n",
       "      <td>[{\"name\": \"SNL Studios\", \"id\": 2822}]</td>\n",
       "      <td>[{\"iso_3166_1\": \"US\", \"name\": \"United States o...</td>\n",
       "      <td>2000-10-13</td>\n",
       "      <td>13700000</td>\n",
       "      <td>84.0</td>\n",
       "      <td>[{\"iso_639_1\": \"en\", \"name\": \"English\"}]</td>\n",
       "      <td>Released</td>\n",
       "      <td>He's cool. He's clean. He's a love machine.</td>\n",
       "      <td>The Ladies Man</td>\n",
       "      <td>5.7</td>\n",
       "      <td>34</td>\n",
       "    </tr>\n",
       "  </tbody>\n",
       "</table>\n",
       "</div>"
      ],
      "text/plain": [
       "        budget                          genres homepage     id  \\\n",
       "2938  24000000  [{\"id\": 35, \"name\": \"Comedy\"}]      NaN  16888   \n",
       "\n",
       "                                               keywords original_language  \\\n",
       "2938  [{\"id\": 293, \"name\": \"female nudity\"}, {\"id\": ...                en   \n",
       "\n",
       "      original_title                                           overview  \\\n",
       "2938  The Ladies Man  Because of his salacious language, late-night ...   \n",
       "\n",
       "      popularity                   production_companies  \\\n",
       "2938    2.259537  [{\"name\": \"SNL Studios\", \"id\": 2822}]   \n",
       "\n",
       "                                   production_countries release_date  \\\n",
       "2938  [{\"iso_3166_1\": \"US\", \"name\": \"United States o...   2000-10-13   \n",
       "\n",
       "       revenue  runtime                          spoken_languages    status  \\\n",
       "2938  13700000     84.0  [{\"iso_639_1\": \"en\", \"name\": \"English\"}]  Released   \n",
       "\n",
       "                                          tagline           title  \\\n",
       "2938  He's cool. He's clean. He's a love machine.  The Ladies Man   \n",
       "\n",
       "      vote_average  vote_count  \n",
       "2938           5.7          34  "
      ]
     },
     "execution_count": 2,
     "metadata": {},
     "output_type": "execute_result"
    }
   ],
   "source": [
    "movies_df = pd.read_csv(\"movies.csv\")\n",
    "movies_df.sample()"
   ]
  },
  {
   "cell_type": "code",
   "execution_count": 3,
   "id": "0e24e590",
   "metadata": {},
   "outputs": [
    {
     "name": "stdout",
     "output_type": "stream",
     "text": [
      "<class 'pandas.core.frame.DataFrame'>\n",
      "RangeIndex: 4803 entries, 0 to 4802\n",
      "Data columns (total 20 columns):\n",
      " #   Column                Non-Null Count  Dtype  \n",
      "---  ------                --------------  -----  \n",
      " 0   budget                4803 non-null   int64  \n",
      " 1   genres                4803 non-null   object \n",
      " 2   homepage              1712 non-null   object \n",
      " 3   id                    4803 non-null   int64  \n",
      " 4   keywords              4803 non-null   object \n",
      " 5   original_language     4803 non-null   object \n",
      " 6   original_title        4803 non-null   object \n",
      " 7   overview              4800 non-null   object \n",
      " 8   popularity            4803 non-null   float64\n",
      " 9   production_companies  4803 non-null   object \n",
      " 10  production_countries  4803 non-null   object \n",
      " 11  release_date          4802 non-null   object \n",
      " 12  revenue               4803 non-null   int64  \n",
      " 13  runtime               4801 non-null   float64\n",
      " 14  spoken_languages      4803 non-null   object \n",
      " 15  status                4803 non-null   object \n",
      " 16  tagline               3959 non-null   object \n",
      " 17  title                 4803 non-null   object \n",
      " 18  vote_average          4803 non-null   float64\n",
      " 19  vote_count            4803 non-null   int64  \n",
      "dtypes: float64(3), int64(4), object(13)\n",
      "memory usage: 750.6+ KB\n"
     ]
    }
   ],
   "source": [
    "## Check the features of the dataset\n",
    "\n",
    "movies_df.info()"
   ]
  },
  {
   "cell_type": "code",
   "execution_count": 4,
   "id": "866ae0e1",
   "metadata": {},
   "outputs": [
    {
     "data": {
      "text/html": [
       "<div>\n",
       "<style scoped>\n",
       "    .dataframe tbody tr th:only-of-type {\n",
       "        vertical-align: middle;\n",
       "    }\n",
       "\n",
       "    .dataframe tbody tr th {\n",
       "        vertical-align: top;\n",
       "    }\n",
       "\n",
       "    .dataframe thead th {\n",
       "        text-align: right;\n",
       "    }\n",
       "</style>\n",
       "<table border=\"1\" class=\"dataframe\">\n",
       "  <thead>\n",
       "    <tr style=\"text-align: right;\">\n",
       "      <th></th>\n",
       "      <th>movie_id</th>\n",
       "      <th>title</th>\n",
       "      <th>cast</th>\n",
       "      <th>crew</th>\n",
       "    </tr>\n",
       "  </thead>\n",
       "  <tbody>\n",
       "    <tr>\n",
       "      <th>411</th>\n",
       "      <td>22538</td>\n",
       "      <td>Scott Pilgrim vs. the World</td>\n",
       "      <td>[{\"cast_id\": 1, \"character\": \"Scott Pilgrim\", ...</td>\n",
       "      <td>[{\"credit_id\": \"52fe4445c3a368484e0198d7\", \"de...</td>\n",
       "    </tr>\n",
       "  </tbody>\n",
       "</table>\n",
       "</div>"
      ],
      "text/plain": [
       "     movie_id                        title  \\\n",
       "411     22538  Scott Pilgrim vs. the World   \n",
       "\n",
       "                                                  cast  \\\n",
       "411  [{\"cast_id\": 1, \"character\": \"Scott Pilgrim\", ...   \n",
       "\n",
       "                                                  crew  \n",
       "411  [{\"credit_id\": \"52fe4445c3a368484e0198d7\", \"de...  "
      ]
     },
     "execution_count": 4,
     "metadata": {},
     "output_type": "execute_result"
    }
   ],
   "source": [
    "credit_df = pd.read_csv(\"credits.csv\")\n",
    "credit_df.sample()"
   ]
  },
  {
   "cell_type": "code",
   "execution_count": 5,
   "id": "37b40edf",
   "metadata": {},
   "outputs": [
    {
     "name": "stdout",
     "output_type": "stream",
     "text": [
      "<class 'pandas.core.frame.DataFrame'>\n",
      "RangeIndex: 4803 entries, 0 to 4802\n",
      "Data columns (total 4 columns):\n",
      " #   Column    Non-Null Count  Dtype \n",
      "---  ------    --------------  ----- \n",
      " 0   movie_id  4803 non-null   int64 \n",
      " 1   title     4803 non-null   object\n",
      " 2   cast      4803 non-null   object\n",
      " 3   crew      4803 non-null   object\n",
      "dtypes: int64(1), object(3)\n",
      "memory usage: 150.2+ KB\n"
     ]
    }
   ],
   "source": [
    "credit_df.info()"
   ]
  },
  {
   "cell_type": "code",
   "execution_count": 6,
   "id": "3388c069",
   "metadata": {},
   "outputs": [
    {
     "data": {
      "text/html": [
       "<div>\n",
       "<style scoped>\n",
       "    .dataframe tbody tr th:only-of-type {\n",
       "        vertical-align: middle;\n",
       "    }\n",
       "\n",
       "    .dataframe tbody tr th {\n",
       "        vertical-align: top;\n",
       "    }\n",
       "\n",
       "    .dataframe thead th {\n",
       "        text-align: right;\n",
       "    }\n",
       "</style>\n",
       "<table border=\"1\" class=\"dataframe\">\n",
       "  <thead>\n",
       "    <tr style=\"text-align: right;\">\n",
       "      <th></th>\n",
       "      <th>budget</th>\n",
       "      <th>genres</th>\n",
       "      <th>homepage</th>\n",
       "      <th>id</th>\n",
       "      <th>keywords</th>\n",
       "      <th>original_language</th>\n",
       "      <th>original_title</th>\n",
       "      <th>overview</th>\n",
       "      <th>popularity</th>\n",
       "      <th>production_companies</th>\n",
       "      <th>...</th>\n",
       "      <th>runtime</th>\n",
       "      <th>spoken_languages</th>\n",
       "      <th>status</th>\n",
       "      <th>tagline</th>\n",
       "      <th>title</th>\n",
       "      <th>vote_average</th>\n",
       "      <th>vote_count</th>\n",
       "      <th>movie_id</th>\n",
       "      <th>cast</th>\n",
       "      <th>crew</th>\n",
       "    </tr>\n",
       "  </thead>\n",
       "  <tbody>\n",
       "    <tr>\n",
       "      <th>1508</th>\n",
       "      <td>32000000</td>\n",
       "      <td>[{\"id\": 18, \"name\": \"Drama\"}]</td>\n",
       "      <td>NaN</td>\n",
       "      <td>11978</td>\n",
       "      <td>[{\"id\": 269, \"name\": \"diving\"}, {\"id\": 4410, \"...</td>\n",
       "      <td>en</td>\n",
       "      <td>Men of Honor</td>\n",
       "      <td>Against formidable odds -- and an old-school d...</td>\n",
       "      <td>24.147269</td>\n",
       "      <td>[{\"name\": \"Fox 2000 Pictures\", \"id\": 711}]</td>\n",
       "      <td>...</td>\n",
       "      <td>129.0</td>\n",
       "      <td>[{\"iso_639_1\": \"en\", \"name\": \"English\"}]</td>\n",
       "      <td>Released</td>\n",
       "      <td>History is made by those who break the rules.</td>\n",
       "      <td>Men of Honor</td>\n",
       "      <td>7.0</td>\n",
       "      <td>544</td>\n",
       "      <td>11978</td>\n",
       "      <td>[{\"cast_id\": 11, \"character\": \"Master Chief Le...</td>\n",
       "      <td>[{\"credit_id\": \"52fe44ae9251416c7503d4f7\", \"de...</td>\n",
       "    </tr>\n",
       "  </tbody>\n",
       "</table>\n",
       "<p>1 rows × 23 columns</p>\n",
       "</div>"
      ],
      "text/plain": [
       "        budget                         genres homepage     id  \\\n",
       "1508  32000000  [{\"id\": 18, \"name\": \"Drama\"}]      NaN  11978   \n",
       "\n",
       "                                               keywords original_language  \\\n",
       "1508  [{\"id\": 269, \"name\": \"diving\"}, {\"id\": 4410, \"...                en   \n",
       "\n",
       "     original_title                                           overview  \\\n",
       "1508   Men of Honor  Against formidable odds -- and an old-school d...   \n",
       "\n",
       "      popularity                        production_companies  ... runtime  \\\n",
       "1508   24.147269  [{\"name\": \"Fox 2000 Pictures\", \"id\": 711}]  ...   129.0   \n",
       "\n",
       "                              spoken_languages    status  \\\n",
       "1508  [{\"iso_639_1\": \"en\", \"name\": \"English\"}]  Released   \n",
       "\n",
       "                                            tagline         title  \\\n",
       "1508  History is made by those who break the rules.  Men of Honor   \n",
       "\n",
       "     vote_average vote_count movie_id  \\\n",
       "1508          7.0        544    11978   \n",
       "\n",
       "                                                   cast  \\\n",
       "1508  [{\"cast_id\": 11, \"character\": \"Master Chief Le...   \n",
       "\n",
       "                                                   crew  \n",
       "1508  [{\"credit_id\": \"52fe44ae9251416c7503d4f7\", \"de...  \n",
       "\n",
       "[1 rows x 23 columns]"
      ]
     },
     "execution_count": 6,
     "metadata": {},
     "output_type": "execute_result"
    }
   ],
   "source": [
    "# Merge the datasets using the title column\n",
    "\n",
    "movies_credit_df = movies_df.merge(credit_df, on=\"title\")\n",
    "movies_credit_df.sample()"
   ]
  },
  {
   "cell_type": "markdown",
   "id": "f2c93c72",
   "metadata": {},
   "source": [
    "#### Using Weighted average for each movie's average rating\n",
    "\n",
    "W = (Rv + Cm) / (v+m)\n",
    "\n",
    "W = weighted rating\n",
    "\n",
    "R = average for the movie as a number from 0 to 10\n",
    "\n",
    "v = number of votes\n",
    "\n",
    "m = minimum votes required to be listed in the Top 250 (3000)\n",
    "\n",
    "C = the mean vote across the whole report (6.9)\n",
    "\n",
    "Source = \"https://trailerpark.weebly.com/imdb-rating.html?source=post_page\""
   ]
  },
  {
   "cell_type": "code",
   "execution_count": 7,
   "id": "7a13272d",
   "metadata": {},
   "outputs": [
    {
     "data": {
      "text/html": [
       "<div>\n",
       "<style scoped>\n",
       "    .dataframe tbody tr th:only-of-type {\n",
       "        vertical-align: middle;\n",
       "    }\n",
       "\n",
       "    .dataframe tbody tr th {\n",
       "        vertical-align: top;\n",
       "    }\n",
       "\n",
       "    .dataframe thead th {\n",
       "        text-align: right;\n",
       "    }\n",
       "</style>\n",
       "<table border=\"1\" class=\"dataframe\">\n",
       "  <thead>\n",
       "    <tr style=\"text-align: right;\">\n",
       "      <th></th>\n",
       "      <th>budget</th>\n",
       "      <th>genres</th>\n",
       "      <th>homepage</th>\n",
       "      <th>id</th>\n",
       "      <th>keywords</th>\n",
       "      <th>original_language</th>\n",
       "      <th>original_title</th>\n",
       "      <th>overview</th>\n",
       "      <th>popularity</th>\n",
       "      <th>production_companies</th>\n",
       "      <th>...</th>\n",
       "      <th>spoken_languages</th>\n",
       "      <th>status</th>\n",
       "      <th>tagline</th>\n",
       "      <th>title</th>\n",
       "      <th>vote_average</th>\n",
       "      <th>vote_count</th>\n",
       "      <th>movie_id</th>\n",
       "      <th>cast</th>\n",
       "      <th>crew</th>\n",
       "      <th>ratings</th>\n",
       "    </tr>\n",
       "  </thead>\n",
       "  <tbody>\n",
       "    <tr>\n",
       "      <th>1824</th>\n",
       "      <td>22000000</td>\n",
       "      <td>[{\"id\": 18, \"name\": \"Drama\"}, {\"id\": 36, \"name...</td>\n",
       "      <td>http://www.schindlerslist.com/</td>\n",
       "      <td>424</td>\n",
       "      <td>[{\"id\": 1382, \"name\": \"factory\"}, {\"id\": 1631,...</td>\n",
       "      <td>en</td>\n",
       "      <td>Schindler's List</td>\n",
       "      <td>The true story of how businessman Oskar Schind...</td>\n",
       "      <td>104.469351</td>\n",
       "      <td>[{\"name\": \"Universal Pictures\", \"id\": 33}, {\"n...</td>\n",
       "      <td>...</td>\n",
       "      <td>[{\"iso_639_1\": \"de\", \"name\": \"Deutsch\"}, {\"iso...</td>\n",
       "      <td>Released</td>\n",
       "      <td>Whoever saves one life, saves the world entire.</td>\n",
       "      <td>Schindler's List</td>\n",
       "      <td>8.3</td>\n",
       "      <td>4329</td>\n",
       "      <td>424</td>\n",
       "      <td>[{\"cast_id\": 14, \"character\": \"Oskar Schindler...</td>\n",
       "      <td>[{\"credit_id\": \"52fe4242c3a36847f8010303\", \"de...</td>\n",
       "      <td>8.0</td>\n",
       "    </tr>\n",
       "  </tbody>\n",
       "</table>\n",
       "<p>1 rows × 24 columns</p>\n",
       "</div>"
      ],
      "text/plain": [
       "        budget                                             genres  \\\n",
       "1824  22000000  [{\"id\": 18, \"name\": \"Drama\"}, {\"id\": 36, \"name...   \n",
       "\n",
       "                            homepage   id  \\\n",
       "1824  http://www.schindlerslist.com/  424   \n",
       "\n",
       "                                               keywords original_language  \\\n",
       "1824  [{\"id\": 1382, \"name\": \"factory\"}, {\"id\": 1631,...                en   \n",
       "\n",
       "        original_title                                           overview  \\\n",
       "1824  Schindler's List  The true story of how businessman Oskar Schind...   \n",
       "\n",
       "      popularity                               production_companies  ...  \\\n",
       "1824  104.469351  [{\"name\": \"Universal Pictures\", \"id\": 33}, {\"n...  ...   \n",
       "\n",
       "                                       spoken_languages    status  \\\n",
       "1824  [{\"iso_639_1\": \"de\", \"name\": \"Deutsch\"}, {\"iso...  Released   \n",
       "\n",
       "                                              tagline             title  \\\n",
       "1824  Whoever saves one life, saves the world entire.  Schindler's List   \n",
       "\n",
       "     vote_average vote_count movie_id  \\\n",
       "1824          8.3       4329      424   \n",
       "\n",
       "                                                   cast  \\\n",
       "1824  [{\"cast_id\": 14, \"character\": \"Oskar Schindler...   \n",
       "\n",
       "                                                   crew  ratings  \n",
       "1824  [{\"credit_id\": \"52fe4242c3a36847f8010303\", \"de...      8.0  \n",
       "\n",
       "[1 rows x 24 columns]"
      ]
     },
     "execution_count": 7,
     "metadata": {},
     "output_type": "execute_result"
    }
   ],
   "source": [
    "v = movies_credit_df['vote_count']\n",
    "R = movies_credit_df['vote_average']\n",
    "m = movies_credit_df['vote_count'].quantile(0.70)\n",
    "C = movies_credit_df['vote_average'].mean()\n",
    "\n",
    "movies_credit_df['ratings'] = round(((R*v) + (C*m)) / (v+m),1)\n",
    "movies_credit_df.sample()"
   ]
  },
  {
   "cell_type": "code",
   "execution_count": 8,
   "id": "a292bc2b",
   "metadata": {},
   "outputs": [
    {
     "data": {
      "text/plain": [
       "array([7.1, 6.8, 6.3, 7.5, 6.1, 5.9, 7.2, 7.3, 5.7, 5.6, 6.9, 6.5, 6.2,\n",
       "       6.4, 7. , 7.4, 6.6, 6. , 5.8, 5.3, 7.7, 5.4, 8.1, 7.6, 5.5, 7.8,\n",
       "       5.1, 8. , 6.7, 5.2, 4.8, 4.7, 7.9, 5. , 8.2, 8.3])"
      ]
     },
     "execution_count": 8,
     "metadata": {},
     "output_type": "execute_result"
    }
   ],
   "source": [
    "movies_credit_df['ratings'].unique()"
   ]
  },
  {
   "cell_type": "code",
   "execution_count": 9,
   "id": "da0fed30",
   "metadata": {},
   "outputs": [
    {
     "data": {
      "text/html": [
       "<div>\n",
       "<style scoped>\n",
       "    .dataframe tbody tr th:only-of-type {\n",
       "        vertical-align: middle;\n",
       "    }\n",
       "\n",
       "    .dataframe tbody tr th {\n",
       "        vertical-align: top;\n",
       "    }\n",
       "\n",
       "    .dataframe thead th {\n",
       "        text-align: right;\n",
       "    }\n",
       "</style>\n",
       "<table border=\"1\" class=\"dataframe\">\n",
       "  <thead>\n",
       "    <tr style=\"text-align: right;\">\n",
       "      <th></th>\n",
       "      <th>movie_id</th>\n",
       "      <th>title</th>\n",
       "      <th>overview</th>\n",
       "      <th>genres</th>\n",
       "      <th>keywords</th>\n",
       "      <th>cast</th>\n",
       "      <th>crew</th>\n",
       "      <th>ratings</th>\n",
       "    </tr>\n",
       "  </thead>\n",
       "  <tbody>\n",
       "    <tr>\n",
       "      <th>281</th>\n",
       "      <td>4982</td>\n",
       "      <td>American Gangster</td>\n",
       "      <td>Following the death of his employer and mentor...</td>\n",
       "      <td>[{\"id\": 18, \"name\": \"Drama\"}, {\"id\": 80, \"name...</td>\n",
       "      <td>[{\"id\": 240, \"name\": \"underdog\"}, {\"id\": 577, ...</td>\n",
       "      <td>[{\"cast_id\": 12, \"character\": \"Frank Lucas\", \"...</td>\n",
       "      <td>[{\"credit_id\": \"52fe43ebc3a36847f80783c7\", \"de...</td>\n",
       "      <td>7.0</td>\n",
       "    </tr>\n",
       "  </tbody>\n",
       "</table>\n",
       "</div>"
      ],
      "text/plain": [
       "     movie_id              title  \\\n",
       "281      4982  American Gangster   \n",
       "\n",
       "                                              overview  \\\n",
       "281  Following the death of his employer and mentor...   \n",
       "\n",
       "                                                genres  \\\n",
       "281  [{\"id\": 18, \"name\": \"Drama\"}, {\"id\": 80, \"name...   \n",
       "\n",
       "                                              keywords  \\\n",
       "281  [{\"id\": 240, \"name\": \"underdog\"}, {\"id\": 577, ...   \n",
       "\n",
       "                                                  cast  \\\n",
       "281  [{\"cast_id\": 12, \"character\": \"Frank Lucas\", \"...   \n",
       "\n",
       "                                                  crew  ratings  \n",
       "281  [{\"credit_id\": \"52fe43ebc3a36847f80783c7\", \"de...      7.0  "
      ]
     },
     "execution_count": 9,
     "metadata": {},
     "output_type": "execute_result"
    }
   ],
   "source": [
    "# Pick columns that will be used for recommendation\n",
    "\n",
    "data =  movies_credit_df[['movie_id','title','overview','genres','keywords','cast','crew','ratings']]\n",
    "data.sample()"
   ]
  },
  {
   "cell_type": "code",
   "execution_count": 10,
   "id": "e3205e7f",
   "metadata": {},
   "outputs": [
    {
     "data": {
      "text/plain": [
       "movie_id    0\n",
       "title       0\n",
       "overview    3\n",
       "genres      0\n",
       "keywords    0\n",
       "cast        0\n",
       "crew        0\n",
       "ratings     0\n",
       "dtype: int64"
      ]
     },
     "execution_count": 10,
     "metadata": {},
     "output_type": "execute_result"
    }
   ],
   "source": [
    "# Check for null values\n",
    "\n",
    "data.isnull().sum()"
   ]
  },
  {
   "cell_type": "code",
   "execution_count": 11,
   "id": "2bde3f05",
   "metadata": {},
   "outputs": [
    {
     "data": {
      "text/plain": [
       "movie_id    0\n",
       "title       0\n",
       "overview    0\n",
       "genres      0\n",
       "keywords    0\n",
       "cast        0\n",
       "crew        0\n",
       "ratings     0\n",
       "dtype: int64"
      ]
     },
     "execution_count": 11,
     "metadata": {},
     "output_type": "execute_result"
    }
   ],
   "source": [
    "# Drop null values\n",
    "\n",
    "data.dropna(inplace=True)\n",
    "data.isnull().sum()"
   ]
  },
  {
   "cell_type": "code",
   "execution_count": 12,
   "id": "eb68684c",
   "metadata": {},
   "outputs": [
    {
     "data": {
      "text/plain": [
       "'[{\"id\": 28, \"name\": \"Action\"}, {\"id\": 12, \"name\": \"Adventure\"}, {\"id\": 14, \"name\": \"Fantasy\"}, {\"id\": 878, \"name\": \"Science Fiction\"}]'"
      ]
     },
     "execution_count": 12,
     "metadata": {},
     "output_type": "execute_result"
    }
   ],
   "source": [
    "# Explore the eatures that will need further cleaning\n",
    "\n",
    "data.iloc[0]['genres']"
   ]
  },
  {
   "cell_type": "markdown",
   "id": "19194241",
   "metadata": {},
   "source": [
    "#### Data Cleaning"
   ]
  },
  {
   "cell_type": "code",
   "execution_count": 13,
   "id": "7e328a78",
   "metadata": {},
   "outputs": [
    {
     "data": {
      "text/html": [
       "<div>\n",
       "<style scoped>\n",
       "    .dataframe tbody tr th:only-of-type {\n",
       "        vertical-align: middle;\n",
       "    }\n",
       "\n",
       "    .dataframe tbody tr th {\n",
       "        vertical-align: top;\n",
       "    }\n",
       "\n",
       "    .dataframe thead th {\n",
       "        text-align: right;\n",
       "    }\n",
       "</style>\n",
       "<table border=\"1\" class=\"dataframe\">\n",
       "  <thead>\n",
       "    <tr style=\"text-align: right;\">\n",
       "      <th></th>\n",
       "      <th>movie_id</th>\n",
       "      <th>title</th>\n",
       "      <th>overview</th>\n",
       "      <th>genres</th>\n",
       "      <th>keywords</th>\n",
       "      <th>cast</th>\n",
       "      <th>crew</th>\n",
       "      <th>ratings</th>\n",
       "    </tr>\n",
       "  </thead>\n",
       "  <tbody>\n",
       "    <tr>\n",
       "      <th>3697</th>\n",
       "      <td>10914</td>\n",
       "      <td>All Hat</td>\n",
       "      <td>An ex-con returns to his rural Ontario roots a...</td>\n",
       "      <td>[Action, Comedy, Drama, Western]</td>\n",
       "      <td>[indian territory, horse, ranch, stetson, urba...</td>\n",
       "      <td>[{\"cast_id\": 3, \"character\": \"Chrissie\", \"cred...</td>\n",
       "      <td>[{\"credit_id\": \"52fe43cf9251416c7501f1ab\", \"de...</td>\n",
       "      <td>6.1</td>\n",
       "    </tr>\n",
       "  </tbody>\n",
       "</table>\n",
       "</div>"
      ],
      "text/plain": [
       "      movie_id    title                                           overview  \\\n",
       "3697     10914  All Hat  An ex-con returns to his rural Ontario roots a...   \n",
       "\n",
       "                                genres  \\\n",
       "3697  [Action, Comedy, Drama, Western]   \n",
       "\n",
       "                                               keywords  \\\n",
       "3697  [indian territory, horse, ranch, stetson, urba...   \n",
       "\n",
       "                                                   cast  \\\n",
       "3697  [{\"cast_id\": 3, \"character\": \"Chrissie\", \"cred...   \n",
       "\n",
       "                                                   crew  ratings  \n",
       "3697  [{\"credit_id\": \"52fe43cf9251416c7501f1ab\", \"de...      6.1  "
      ]
     },
     "execution_count": 13,
     "metadata": {},
     "output_type": "execute_result"
    }
   ],
   "source": [
    "import ast\n",
    "\n",
    "# Function to extract 'name' values from the genres column\n",
    "def extract_genres_names(genres):\n",
    "    # Convert the string representation of the list of dictionaries to an actual list of dictionaries\n",
    "    genres_list = ast.literal_eval(genres)\n",
    "    # Extract the 'name' values\n",
    "    names = [genre['name'] for genre in genres_list]\n",
    "    return names\n",
    "\n",
    "# Apply the function to the 'genres' column and create a new column 'genre_names'\n",
    "data['genres'] = data['genres'].apply(extract_genres_names)\n",
    "data['keywords'] = data['keywords'].apply(extract_genres_names)\n",
    "\n",
    "data.sample()"
   ]
  },
  {
   "cell_type": "code",
   "execution_count": 14,
   "id": "25973de3",
   "metadata": {},
   "outputs": [
    {
     "data": {
      "text/html": [
       "<div>\n",
       "<style scoped>\n",
       "    .dataframe tbody tr th:only-of-type {\n",
       "        vertical-align: middle;\n",
       "    }\n",
       "\n",
       "    .dataframe tbody tr th {\n",
       "        vertical-align: top;\n",
       "    }\n",
       "\n",
       "    .dataframe thead th {\n",
       "        text-align: right;\n",
       "    }\n",
       "</style>\n",
       "<table border=\"1\" class=\"dataframe\">\n",
       "  <thead>\n",
       "    <tr style=\"text-align: right;\">\n",
       "      <th></th>\n",
       "      <th>movie_id</th>\n",
       "      <th>title</th>\n",
       "      <th>overview</th>\n",
       "      <th>genres</th>\n",
       "      <th>keywords</th>\n",
       "      <th>cast</th>\n",
       "      <th>crew</th>\n",
       "      <th>ratings</th>\n",
       "    </tr>\n",
       "  </thead>\n",
       "  <tbody>\n",
       "    <tr>\n",
       "      <th>3048</th>\n",
       "      <td>14120</td>\n",
       "      <td>End of the Spear</td>\n",
       "      <td>\"End of the Spear\" is the story of Mincayani, ...</td>\n",
       "      <td>[Adventure, Drama]</td>\n",
       "      <td>[drama]</td>\n",
       "      <td>[Louie Leonardo, Chad Allen, Jack Guzman]</td>\n",
       "      <td>[{\"credit_id\": \"52fe45cd9251416c75062eb3\", \"de...</td>\n",
       "      <td>6.1</td>\n",
       "    </tr>\n",
       "  </tbody>\n",
       "</table>\n",
       "</div>"
      ],
      "text/plain": [
       "      movie_id             title  \\\n",
       "3048     14120  End of the Spear   \n",
       "\n",
       "                                               overview              genres  \\\n",
       "3048  \"End of the Spear\" is the story of Mincayani, ...  [Adventure, Drama]   \n",
       "\n",
       "     keywords                                       cast  \\\n",
       "3048  [drama]  [Louie Leonardo, Chad Allen, Jack Guzman]   \n",
       "\n",
       "                                                   crew  ratings  \n",
       "3048  [{\"credit_id\": \"52fe45cd9251416c75062eb3\", \"de...      6.1  "
      ]
     },
     "execution_count": 14,
     "metadata": {},
     "output_type": "execute_result"
    }
   ],
   "source": [
    "def extract_character(text):\n",
    "    characters=[]\n",
    "    count = 0\n",
    "    for i in ast.literal_eval(text):\n",
    "        if count < 3:\n",
    "            characters.append(i['name'])\n",
    "            \n",
    "        count += 1\n",
    "    return characters\n",
    "\n",
    "data['cast'] = data['cast'].apply(extract_character)\n",
    "data.sample()"
   ]
  },
  {
   "cell_type": "code",
   "execution_count": 15,
   "id": "ca2563a0",
   "metadata": {},
   "outputs": [
    {
     "data": {
      "text/html": [
       "<div>\n",
       "<style scoped>\n",
       "    .dataframe tbody tr th:only-of-type {\n",
       "        vertical-align: middle;\n",
       "    }\n",
       "\n",
       "    .dataframe tbody tr th {\n",
       "        vertical-align: top;\n",
       "    }\n",
       "\n",
       "    .dataframe thead th {\n",
       "        text-align: right;\n",
       "    }\n",
       "</style>\n",
       "<table border=\"1\" class=\"dataframe\">\n",
       "  <thead>\n",
       "    <tr style=\"text-align: right;\">\n",
       "      <th></th>\n",
       "      <th>movie_id</th>\n",
       "      <th>title</th>\n",
       "      <th>overview</th>\n",
       "      <th>genres</th>\n",
       "      <th>keywords</th>\n",
       "      <th>cast</th>\n",
       "      <th>crew</th>\n",
       "      <th>ratings</th>\n",
       "      <th>director</th>\n",
       "    </tr>\n",
       "  </thead>\n",
       "  <tbody>\n",
       "    <tr>\n",
       "      <th>4118</th>\n",
       "      <td>22617</td>\n",
       "      <td>Dinner Rush</td>\n",
       "      <td>Is it just another evening at the hugely popul...</td>\n",
       "      <td>[Drama, Action, Thriller]</td>\n",
       "      <td>[]</td>\n",
       "      <td>[Danny Aiello, John Rothman, Frank Bongiorno]</td>\n",
       "      <td>[{\"credit_id\": \"52fe4448c3a368484e01a66f\", \"de...</td>\n",
       "      <td>6.1</td>\n",
       "      <td>[Bob Giraldi]</td>\n",
       "    </tr>\n",
       "  </tbody>\n",
       "</table>\n",
       "</div>"
      ],
      "text/plain": [
       "      movie_id        title  \\\n",
       "4118     22617  Dinner Rush   \n",
       "\n",
       "                                               overview  \\\n",
       "4118  Is it just another evening at the hugely popul...   \n",
       "\n",
       "                         genres keywords  \\\n",
       "4118  [Drama, Action, Thriller]       []   \n",
       "\n",
       "                                               cast  \\\n",
       "4118  [Danny Aiello, John Rothman, Frank Bongiorno]   \n",
       "\n",
       "                                                   crew  ratings  \\\n",
       "4118  [{\"credit_id\": \"52fe4448c3a368484e01a66f\", \"de...      6.1   \n",
       "\n",
       "           director  \n",
       "4118  [Bob Giraldi]  "
      ]
     },
     "execution_count": 15,
     "metadata": {},
     "output_type": "execute_result"
    }
   ],
   "source": [
    "def extract_director(text):\n",
    "    director=[]\n",
    "    for i in ast.literal_eval(text):\n",
    "        if i['job'] == \"Director\":\n",
    "            director.append(i['name'])\n",
    "            break\n",
    "\n",
    "    return director\n",
    "\n",
    "data['director'] = data['crew'].apply(extract_director)\n",
    "data.sample()"
   ]
  },
  {
   "cell_type": "code",
   "execution_count": 16,
   "id": "6ec5a167",
   "metadata": {},
   "outputs": [],
   "source": [
    "def remove_spaces(text):\n",
    "    l = []\n",
    "    for i in text:\n",
    "        l.append(i.replace(\" \",\"\"))\n",
    "    return l\n",
    "\n",
    "data['cast'] = data['cast'].apply(remove_spaces)\n",
    "data['director'] = data['director'].apply(remove_spaces)\n",
    "data['keywords'] = data['keywords'].apply(remove_spaces)\n",
    "data['genres'] = data['genres'].apply(remove_spaces)"
   ]
  },
  {
   "cell_type": "code",
   "execution_count": 17,
   "id": "1439bf83",
   "metadata": {},
   "outputs": [
    {
     "data": {
      "text/html": [
       "<div>\n",
       "<style scoped>\n",
       "    .dataframe tbody tr th:only-of-type {\n",
       "        vertical-align: middle;\n",
       "    }\n",
       "\n",
       "    .dataframe tbody tr th {\n",
       "        vertical-align: top;\n",
       "    }\n",
       "\n",
       "    .dataframe thead th {\n",
       "        text-align: right;\n",
       "    }\n",
       "</style>\n",
       "<table border=\"1\" class=\"dataframe\">\n",
       "  <thead>\n",
       "    <tr style=\"text-align: right;\">\n",
       "      <th></th>\n",
       "      <th>movie_id</th>\n",
       "      <th>title</th>\n",
       "      <th>overview</th>\n",
       "      <th>genres</th>\n",
       "      <th>keywords</th>\n",
       "      <th>cast</th>\n",
       "      <th>crew</th>\n",
       "      <th>ratings</th>\n",
       "      <th>director</th>\n",
       "    </tr>\n",
       "  </thead>\n",
       "  <tbody>\n",
       "    <tr>\n",
       "      <th>2734</th>\n",
       "      <td>70829</td>\n",
       "      <td>The Last Godfather</td>\n",
       "      <td>Young-goo the son of mafia boss Don Carini, is...</td>\n",
       "      <td>[Action, Comedy, Thriller]</td>\n",
       "      <td>[]</td>\n",
       "      <td>[HarveyKeitel, JasonMewes, BlakeClark]</td>\n",
       "      <td>[{\"credit_id\": \"52fe4814c3a368484e0e8467\", \"de...</td>\n",
       "      <td>6.1</td>\n",
       "      <td>[ShimHyung-Rae]</td>\n",
       "    </tr>\n",
       "  </tbody>\n",
       "</table>\n",
       "</div>"
      ],
      "text/plain": [
       "      movie_id               title  \\\n",
       "2734     70829  The Last Godfather   \n",
       "\n",
       "                                               overview  \\\n",
       "2734  Young-goo the son of mafia boss Don Carini, is...   \n",
       "\n",
       "                          genres keywords  \\\n",
       "2734  [Action, Comedy, Thriller]       []   \n",
       "\n",
       "                                        cast  \\\n",
       "2734  [HarveyKeitel, JasonMewes, BlakeClark]   \n",
       "\n",
       "                                                   crew  ratings  \\\n",
       "2734  [{\"credit_id\": \"52fe4814c3a368484e0e8467\", \"de...      6.1   \n",
       "\n",
       "             director  \n",
       "2734  [ShimHyung-Rae]  "
      ]
     },
     "execution_count": 17,
     "metadata": {},
     "output_type": "execute_result"
    }
   ],
   "source": [
    "data.sample()"
   ]
  },
  {
   "cell_type": "code",
   "execution_count": 18,
   "id": "434fb3e2",
   "metadata": {},
   "outputs": [],
   "source": [
    "data['auth_tag'] = data['genres'] + data['keywords'] + data['cast'] + data['director']"
   ]
  },
  {
   "cell_type": "code",
   "execution_count": 19,
   "id": "b855460a",
   "metadata": {},
   "outputs": [
    {
     "data": {
      "text/plain": [
       "['Action',\n",
       " 'Adventure',\n",
       " 'Fantasy',\n",
       " 'ScienceFiction',\n",
       " 'cultureclash',\n",
       " 'future',\n",
       " 'spacewar',\n",
       " 'spacecolony',\n",
       " 'society',\n",
       " 'spacetravel',\n",
       " 'futuristic',\n",
       " 'romance',\n",
       " 'space',\n",
       " 'alien',\n",
       " 'tribe',\n",
       " 'alienplanet',\n",
       " 'cgi',\n",
       " 'marine',\n",
       " 'soldier',\n",
       " 'battle',\n",
       " 'loveaffair',\n",
       " 'antiwar',\n",
       " 'powerrelations',\n",
       " 'mindandsoul',\n",
       " '3d',\n",
       " 'SamWorthington',\n",
       " 'ZoeSaldana',\n",
       " 'SigourneyWeaver',\n",
       " 'JamesCameron']"
      ]
     },
     "execution_count": 19,
     "metadata": {},
     "output_type": "execute_result"
    }
   ],
   "source": [
    "new_df = data[['movie_id','title','auth_tag']]\n",
    "new_df.iloc[0]['auth_tag']"
   ]
  },
  {
   "cell_type": "code",
   "execution_count": 20,
   "id": "db2410fe",
   "metadata": {},
   "outputs": [
    {
     "data": {
      "text/plain": [
       "'Action Adventure Fantasy ScienceFiction cultureclash future spacewar spacecolony society spacetravel futuristic romance space alien tribe alienplanet cgi marine soldier battle loveaffair antiwar powerrelations mindandsoul 3d SamWorthington ZoeSaldana SigourneyWeaver JamesCameron'"
      ]
     },
     "execution_count": 20,
     "metadata": {},
     "output_type": "execute_result"
    }
   ],
   "source": [
    "new_df['auth_tag'] = new_df['auth_tag'].apply(lambda x:(' ').join(x))\n",
    "new_df.iloc[0]['auth_tag']"
   ]
  },
  {
   "cell_type": "markdown",
   "id": "e29bded3",
   "metadata": {},
   "source": [
    "#### Feature Extraction"
   ]
  },
  {
   "cell_type": "code",
   "execution_count": 21,
   "id": "2766fd2b",
   "metadata": {},
   "outputs": [],
   "source": [
    "# Initialize TF-IDF Vectorizer\n",
    "vectorizer = TfidfVectorizer()\n",
    "\n",
    "# Fit and transform the combined text data to numerical vectors\n",
    "matrix = vectorizer.fit_transform(new_df[\"auth_tag\"])"
   ]
  },
  {
   "cell_type": "code",
   "execution_count": 22,
   "id": "5e9cd785",
   "metadata": {},
   "outputs": [
    {
     "data": {
      "text/plain": [
       "(4806, 17840)"
      ]
     },
     "execution_count": 22,
     "metadata": {},
     "output_type": "execute_result"
    }
   ],
   "source": [
    "matrix.shape"
   ]
  },
  {
   "cell_type": "code",
   "execution_count": 23,
   "id": "f5725036",
   "metadata": {},
   "outputs": [],
   "source": [
    "# Compute cosine similarities between the vectors\n",
    "#cosine_similarities = linear_kernel(matrix, matrix)\n",
    "\n",
    "from sklearn.metrics.pairwise import cosine_similarity \n",
    "cosine_similarities = cosine_similarity(matrix)"
   ]
  },
  {
   "cell_type": "code",
   "execution_count": 24,
   "id": "d73addcd",
   "metadata": {},
   "outputs": [
    {
     "data": {
      "text/plain": [
       "(4806, 4806)"
      ]
     },
     "execution_count": 24,
     "metadata": {},
     "output_type": "execute_result"
    }
   ],
   "source": [
    "cosine_similarities.shape"
   ]
  },
  {
   "cell_type": "markdown",
   "id": "f26db6b2",
   "metadata": {},
   "source": [
    "#### Movie Recommendation\n",
    "\n",
    "Define a function that recommends top 5 similar movies based on content"
   ]
  },
  {
   "cell_type": "code",
   "execution_count": 25,
   "id": "8d4a25c1",
   "metadata": {},
   "outputs": [],
   "source": [
    "def recommend(movie):\n",
    "    index = new_df[new_df[\"title\"]==movie].index[0]\n",
    "    distances = sorted(list(enumerate(cosine_similarities[index])), reverse=True, key=lambda x:x[1])\n",
    "    for i in distances[1:6]:\n",
    "        print(new_df.iloc[i[0]].title)"
   ]
  },
  {
   "cell_type": "code",
   "execution_count": 26,
   "id": "68131dd7",
   "metadata": {
    "scrolled": true
   },
   "outputs": [
    {
     "name": "stdout",
     "output_type": "stream",
     "text": [
      "Star Trek Into Darkness\n",
      "Aliens\n",
      "Alien³\n",
      "Predators\n",
      "Jupiter Ascending\n"
     ]
    }
   ],
   "source": [
    "# Pick the first movie in the sample for a test\n",
    "\n",
    "recommend(new_df.iloc[0]['title'])"
   ]
  },
  {
   "cell_type": "code",
   "execution_count": 27,
   "id": "1ec0d41c",
   "metadata": {},
   "outputs": [
    {
     "data": {
      "text/plain": [
       "'# Save the model\\n\\nimport pickle\\n\\npickle.dump(new_df, open(\"movie_list.pkl\", \\'wb\\'))\\npickle.dump(cosine_similarities, open(\"similarity.pkl\", \\'wb\\'))'"
      ]
     },
     "execution_count": 27,
     "metadata": {},
     "output_type": "execute_result"
    }
   ],
   "source": [
    "# Save the model\n",
    "\n",
    "import pickle\n",
    "\n",
    "pickle.dump(new_df, open(\"movie_list.pkl\", 'wb'))\n",
    "pickle.dump(cosine_similarities, open(\"similarity.pkl\", 'wb'))"
   ]
  },
  {
   "cell_type": "code",
   "execution_count": null,
   "id": "2d310c48",
   "metadata": {},
   "outputs": [],
   "source": []
  }
 ],
 "metadata": {
  "kernelspec": {
   "display_name": "Python 3 (ipykernel)",
   "language": "python",
   "name": "python3"
  },
  "language_info": {
   "codemirror_mode": {
    "name": "ipython",
    "version": 3
   },
   "file_extension": ".py",
   "mimetype": "text/x-python",
   "name": "python",
   "nbconvert_exporter": "python",
   "pygments_lexer": "ipython3",
   "version": "3.11.5"
  }
 },
 "nbformat": 4,
 "nbformat_minor": 5
}
